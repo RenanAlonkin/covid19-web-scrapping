{
 "cells": [
  {
   "cell_type": "code",
   "execution_count": 1,
   "metadata": {},
   "outputs": [],
   "source": [
    "import os\n",
    "import requests\n",
    "import re\n",
    "from selenium import webdriver"
   ]
  },
  {
   "cell_type": "code",
   "execution_count": 2,
   "metadata": {},
   "outputs": [],
   "source": [
    "import json\n",
    "from datetime import date\n",
    "import pandas as pd\n",
    "today = date.today()"
   ]
  },
  {
   "cell_type": "code",
   "execution_count": 3,
   "metadata": {},
   "outputs": [
    {
     "name": "stderr",
     "output_type": "stream",
     "text": [
      "/home/alonkin/anaconda3/envs/development/lib/python3.7/site-packages/ipykernel_launcher.py:9: DeprecationWarning: use options instead of chrome_options\n",
      "  if __name__ == '__main__':\n"
     ]
    }
   ],
   "source": [
    "# Use Chrome Browser\n",
    "options = webdriver.ChromeOptions()\n",
    "\n",
    "# Open a chrome without GI\n",
    "options.add_argument('headless')\n",
    "\n",
    "# Put a high resolution so we can reach more content on the page\n",
    "options.add_argument('window-size=1920x1080')\n",
    "driver = webdriver.Chrome(chrome_options=options)\n",
    "\n",
    "# Open the page\n",
    "midias_link = \"https://www.sc.gov.br/noticias/temas/coronavirus\"\n",
    "driver.get(midias_link)"
   ]
  },
  {
   "cell_type": "code",
   "execution_count": 4,
   "metadata": {},
   "outputs": [],
   "source": [
    "# Get all articles on this page\n",
    "element_rows = driver.find_elements_by_class_name('items-row')"
   ]
  },
  {
   "cell_type": "code",
   "execution_count": 5,
   "metadata": {},
   "outputs": [],
   "source": [
    "# Creates a dictonary to transform month (text) to month (number)\n",
    "month_translator = {'Janeiro': 1,'Fevereiro': 2,'Março': 3,'Abril': 4,'Maio': 5,'Junho': 6,'Julho': 7, 'Agosto': 8,'Setembro': 9, 'Outubro': 10, 'Novembro': 11, 'Dezembro': 12}"
   ]
  },
  {
   "cell_type": "code",
   "execution_count": 6,
   "metadata": {},
   "outputs": [],
   "source": [
    "links_to_last_article_about_corona = []\n",
    "\n",
    "for rows in element_rows:\n",
    "    link = rows.find_element_by_tag_name(\"a\")\n",
    "    date = rows.find_element_by_class_name('xtt-news-list-item-date')\n",
    "    \n",
    "    contains = 'confirm'.lower() in rows.find_element_by_tag_name(\"a\").text.lower()\n",
    "    date_split = date.text.split(' ')\n",
    "    day = date_split[0]\n",
    "    month = month_translator[date_split[1]]\n",
    "    year = date_split[2]\n",
    "    latest = (str(today.day) == day) & (today.month == month) & (str(today.year) == year)\n",
    "    latest = True\n",
    "    if(contains & latest):\n",
    "        links_to_last_article_about_corona.append(link.get_attribute('href'))"
   ]
  },
  {
   "cell_type": "code",
   "execution_count": 7,
   "metadata": {},
   "outputs": [
    {
     "name": "stdout",
     "output_type": "stream",
     "text": [
      "['https://www.sc.gov.br/noticias/temas/coronavirus/coronavirus-em-sc-governo-do-estado-confirma-68-casos-de-covid-19', 'https://www.sc.gov.br/noticias/temas/coronavirus/coronavirus-em-sc-governo-do-estado-confirma-57-casos-de-covid-19', 'https://www.sc.gov.br/noticias/temas/coronavirus/coronavirus-em-sc-governo-do-estado-confirma-51-casos-de-covid-19']\n"
     ]
    }
   ],
   "source": [
    "print(links_to_last_article_about_corona)"
   ]
  },
  {
   "cell_type": "code",
   "execution_count": 8,
   "metadata": {},
   "outputs": [],
   "source": [
    "link_one = links_to_last_article_about_corona[0]\n",
    "\n",
    "driver.get(link_one)"
   ]
  },
  {
   "cell_type": "code",
   "execution_count": 9,
   "metadata": {},
   "outputs": [],
   "source": [
    "with open('estados-cidades.json') as f:\n",
    "  data = json.load(f)"
   ]
  },
  {
   "cell_type": "code",
   "execution_count": 10,
   "metadata": {},
   "outputs": [],
   "source": [
    "sc_cities = []\n",
    "for estados in data['estados']:\n",
    "    if estados['sigla'] == 'SC':\n",
    "        sc_cities = estados['cidades']"
   ]
  },
  {
   "cell_type": "code",
   "execution_count": 11,
   "metadata": {},
   "outputs": [],
   "source": [
    "body = driver.find_element_by_xpath('//div[@itemprop=\"articleBody\"]')"
   ]
  },
  {
   "cell_type": "code",
   "execution_count": 13,
   "metadata": {},
   "outputs": [],
   "source": [
    "confirmed_by_city = []\n",
    "amount_boundery_1= '('\n",
    "amount_boundery_2 = ')'\n",
    "mystr[mystr.find(char1)+1 : mystr.find(char2)]\n",
    "\n",
    "for city in sc_cities:\n",
    "    city_name_on_text_index = body.text.find(city)\n",
    "    have_confirmed_cases = True if city_name_on_text_index > 0 else False  \n",
    "    \n",
    "    if(have_confirmed_cases):\n",
    "        end_character_index = body.text.find(')', city_name_on_text_index)\n",
    "        string_amount = body.text[city_name_on_text_index:end_character_index + 1]\n",
    "        confirmed_by_city = "
   ]
  },
  {
   "cell_type": "code",
   "execution_count": 16,
   "metadata": {},
   "outputs": [],
   "source": [
    "cities_df = pd.DataFrame()"
   ]
  },
  {
   "cell_type": "code",
   "execution_count": null,
   "metadata": {},
   "outputs": [],
   "source": []
  }
 ],
 "metadata": {
  "kernelspec": {
   "display_name": "Python 3",
   "language": "python",
   "name": "python3"
  },
  "language_info": {
   "codemirror_mode": {
    "name": "ipython",
    "version": 3
   },
   "file_extension": ".py",
   "mimetype": "text/x-python",
   "name": "python",
   "nbconvert_exporter": "python",
   "pygments_lexer": "ipython3",
   "version": "3.7.6"
  }
 },
 "nbformat": 4,
 "nbformat_minor": 4
}
