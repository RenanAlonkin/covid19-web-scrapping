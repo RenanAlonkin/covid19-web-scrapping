{
 "cells": [
  {
   "cell_type": "code",
   "execution_count": 1,
   "metadata": {},
   "outputs": [],
   "source": [
    "import os\n",
    "import requests\n",
    "import re\n",
    "from selenium import webdriver\n",
    "import json\n",
    "from datetime import date\n",
    "import pandas as pd"
   ]
  },
  {
   "cell_type": "code",
   "execution_count": 2,
   "metadata": {},
   "outputs": [],
   "source": [
    "# Get the actual date\n",
    "today = date.today()"
   ]
  },
  {
   "cell_type": "code",
   "execution_count": 3,
   "metadata": {},
   "outputs": [
    {
     "name": "stderr",
     "output_type": "stream",
     "text": [
      "/home/alonkin/anaconda3/envs/development/lib/python3.7/site-packages/ipykernel_launcher.py:9: DeprecationWarning: use options instead of chrome_options\n",
      "  if __name__ == '__main__':\n"
     ]
    }
   ],
   "source": [
    "# Use Chrome Browser\n",
    "options = webdriver.ChromeOptions()\n",
    "\n",
    "# Open a chrome without GI\n",
    "options.add_argument('headless')\n",
    "\n",
    "# Put a high resolution so we can reach more content on the page\n",
    "options.add_argument('window-size=1920x1080')\n",
    "driver = webdriver.Chrome(chrome_options=options)\n",
    "\n",
    "# Open the page\n",
    "midias_link = \"https://www.sc.gov.br/noticias/temas/coronavirus\"\n",
    "driver.get(midias_link)"
   ]
  },
  {
   "cell_type": "code",
   "execution_count": 4,
   "metadata": {},
   "outputs": [],
   "source": [
    "# Get all articles on this page\n",
    "element_rows = driver.find_elements_by_class_name('items-row')"
   ]
  },
  {
   "cell_type": "code",
   "execution_count": 5,
   "metadata": {},
   "outputs": [],
   "source": [
    "# Creates a dictonary to transform month (text) to month (number)\n",
    "month_translator = {'Janeiro': 1,'Fevereiro': 2,'Março': 3,'Abril': 4,'Maio': 5,'Junho': 6,'Julho': 7, 'Agosto': 8,'Setembro': 9, 'Outubro': 10, 'Novembro': 11, 'Dezembro': 12}"
   ]
  },
  {
   "cell_type": "code",
   "execution_count": 6,
   "metadata": {},
   "outputs": [],
   "source": [
    "last_articles_about_corona = []\n",
    "\n",
    "# Search for every article with the term \"confirm\" \n",
    "# and then save the links into a list\n",
    "for rows in element_rows:\n",
    "    link = rows.find_element_by_tag_name(\"a\")\n",
    "    date = rows.find_element_by_class_name('xtt-news-list-item-date')\n",
    "    \n",
    "    contains = 'confirm'.lower() in rows.find_element_by_tag_name(\"a\").text.lower()\n",
    "    date_split = date.text.split(' ')\n",
    "    day = date_split[0]\n",
    "    month = month_translator[date_split[1]]\n",
    "    year = date_split[2]\n",
    "    \n",
    "    # Search only for the lastest article\n",
    "    latest = (str(today.day) == day) & (today.month == month) & (str(today.year) == year)\n",
    "    latest = True\n",
    "    if(contains & latest):\n",
    "        last_articles_about_corona.append(link.get_attribute('href'))"
   ]
  },
  {
   "cell_type": "code",
   "execution_count": 8,
   "metadata": {},
   "outputs": [],
   "source": [
    "# Get the first one on the how\n",
    "link_one = last_articles_about_corona[0]\n",
    "driver.get(link_one)"
   ]
  },
  {
   "cell_type": "code",
   "execution_count": 9,
   "metadata": {},
   "outputs": [],
   "source": [
    "# Load a file with the name of all Santa Catarina's cities\n",
    "with open('estados-cidades.json') as f:\n",
    "  data = json.load(f)"
   ]
  },
  {
   "cell_type": "code",
   "execution_count": 10,
   "metadata": {},
   "outputs": [],
   "source": [
    "sc_cities = []\n",
    "# Create an array with all cities\n",
    "for estados in data['estados']:\n",
    "    if estados['sigla'] == 'SC':\n",
    "        sc_cities = estados['cidades']"
   ]
  },
  {
   "cell_type": "code",
   "execution_count": 11,
   "metadata": {},
   "outputs": [],
   "source": [
    "body = driver.find_element_by_xpath('//div[@itemprop=\"articleBody\"]')"
   ]
  },
  {
   "cell_type": "code",
   "execution_count": 18,
   "metadata": {},
   "outputs": [],
   "source": [
    "# Creates a dictionary that will be used to create the DataFrame\n",
    "number_of_confirmed_cases_by_city = {'DataLeitura': today.strftime(\"%d/%m/%Y\")}\n",
    "\n",
    "# Search for the name of all cities and add the amount of cases into the\n",
    "# Dictionary. If the name is not listed, then we consider it 0 \n",
    "for city in sc_cities:\n",
    "    city_name_on_text_index = body.text.find(city)\n",
    "    have_confirmed_cases = True if city_name_on_text_index > 0 else False  \n",
    "    number_of_cases = 0\n",
    "    if(have_confirmed_cases):\n",
    "        end_character_index = body.text.find(')', city_name_on_text_index)\n",
    "        city_n_cases = body.text[city_name_on_text_index:end_character_index + 1]\n",
    "        number_of_cases =  city_n_cases[city_n_cases.find('(')+1 : city_n_cases.find(')')]\n",
    "    number_of_confirmed_cases_by_city[city] = number_of_cases"
   ]
  },
  {
   "cell_type": "code",
   "execution_count": 22,
   "metadata": {},
   "outputs": [
    {
     "data": {
      "text/html": [
       "<div>\n",
       "<style scoped>\n",
       "    .dataframe tbody tr th:only-of-type {\n",
       "        vertical-align: middle;\n",
       "    }\n",
       "\n",
       "    .dataframe tbody tr th {\n",
       "        vertical-align: top;\n",
       "    }\n",
       "\n",
       "    .dataframe thead th {\n",
       "        text-align: right;\n",
       "    }\n",
       "</style>\n",
       "<table border=\"1\" class=\"dataframe\">\n",
       "  <thead>\n",
       "    <tr style=\"text-align: right;\">\n",
       "      <th></th>\n",
       "      <th>DataLeitura</th>\n",
       "      <th>Abdon Batista</th>\n",
       "      <th>Abelardo Luz</th>\n",
       "      <th>Agrolândia</th>\n",
       "      <th>Agronômica</th>\n",
       "      <th>Água Doce</th>\n",
       "      <th>Águas de Chapecó</th>\n",
       "      <th>Águas Frias</th>\n",
       "      <th>Águas Mornas</th>\n",
       "      <th>Alfredo Wagner</th>\n",
       "      <th>...</th>\n",
       "      <th>Vargem</th>\n",
       "      <th>Vargem Bonita</th>\n",
       "      <th>Vidal Ramos</th>\n",
       "      <th>Videira</th>\n",
       "      <th>Vitor Meireles</th>\n",
       "      <th>Witmarsum</th>\n",
       "      <th>Xanxerê</th>\n",
       "      <th>Xavantina</th>\n",
       "      <th>Xaxim</th>\n",
       "      <th>Zortéa</th>\n",
       "    </tr>\n",
       "  </thead>\n",
       "  <tbody>\n",
       "    <tr>\n",
       "      <th>0</th>\n",
       "      <td>23/03/2020</td>\n",
       "      <td>0</td>\n",
       "      <td>0</td>\n",
       "      <td>0</td>\n",
       "      <td>0</td>\n",
       "      <td>0</td>\n",
       "      <td>0</td>\n",
       "      <td>0</td>\n",
       "      <td>0</td>\n",
       "      <td>0</td>\n",
       "      <td>...</td>\n",
       "      <td>0</td>\n",
       "      <td>0</td>\n",
       "      <td>0</td>\n",
       "      <td>0</td>\n",
       "      <td>0</td>\n",
       "      <td>0</td>\n",
       "      <td>0</td>\n",
       "      <td>0</td>\n",
       "      <td>0</td>\n",
       "      <td>0</td>\n",
       "    </tr>\n",
       "  </tbody>\n",
       "</table>\n",
       "<p>1 rows × 294 columns</p>\n",
       "</div>"
      ],
      "text/plain": [
       "  DataLeitura  Abdon Batista  Abelardo Luz  Agrolândia  Agronômica  Água Doce  \\\n",
       "0  23/03/2020              0             0           0           0          0   \n",
       "\n",
       "   Águas de Chapecó  Águas Frias  Águas Mornas  Alfredo Wagner  ...  Vargem  \\\n",
       "0                 0            0             0               0  ...       0   \n",
       "\n",
       "   Vargem Bonita  Vidal Ramos  Videira  Vitor Meireles  Witmarsum  Xanxerê  \\\n",
       "0              0            0        0               0          0        0   \n",
       "\n",
       "   Xavantina  Xaxim  Zortéa  \n",
       "0          0      0       0  \n",
       "\n",
       "[1 rows x 294 columns]"
      ]
     },
     "execution_count": 22,
     "metadata": {},
     "output_type": "execute_result"
    }
   ],
   "source": [
    "pd.DataFrame([confirmed_by_city])"
   ]
  },
  {
   "cell_type": "code",
   "execution_count": null,
   "metadata": {},
   "outputs": [],
   "source": []
  }
 ],
 "metadata": {
  "kernelspec": {
   "display_name": "Python 3",
   "language": "python",
   "name": "python3"
  },
  "language_info": {
   "codemirror_mode": {
    "name": "ipython",
    "version": 3
   },
   "file_extension": ".py",
   "mimetype": "text/x-python",
   "name": "python",
   "nbconvert_exporter": "python",
   "pygments_lexer": "ipython3",
   "version": "3.7.6"
  }
 },
 "nbformat": 4,
 "nbformat_minor": 4
}
